{
 "cells": [
  {
   "cell_type": "code",
   "execution_count": null,
   "metadata": {},
   "outputs": [],
   "source": [
    "# NEEDED\n",
    "pip install razdel\n",
    "pip install transformers\n",
    "pip install scipy"
   ]
  },
  {
   "cell_type": "code",
   "execution_count": 1,
   "metadata": {},
   "outputs": [
    {
     "name": "stderr",
     "output_type": "stream",
     "text": [
      "c:\\Users\\frama\\AppData\\Local\\Programs\\Python\\Python312\\Lib\\site-packages\\tqdm\\auto.py:21: TqdmWarning: IProgress not found. Please update jupyter and ipywidgets. See https://ipywidgets.readthedocs.io/en/stable/user_install.html\n",
      "  from .autonotebook import tqdm as notebook_tqdm\n"
     ]
    }
   ],
   "source": [
    "# Регулярные выражения потребуются для очистки текста\n",
    "import re\n",
    "\n",
    "# Библиотека razdel потребуется для разбиения текста на предложения\n",
    "# перед отправкой в нейросеть\n",
    "from razdel import sentenize\n",
    "\n",
    "# Без torch невозможна работа с нейросетями\n",
    "import torch\n",
    "\n",
    "# Библиотека transformers нужна для работы с нейросетями-трансформерами,\n",
    "# которые мы будем использовать для анализа тональности\n",
    "from transformers import AutoTokenizer, AutoModelForSequenceClassification\n",
    "\n",
    "# Библиотека matplotlib позволит построить графики кривых тональности\n",
    "from matplotlib import pyplot as plt\n",
    "\n",
    "# Фильтр Савицкого-Голея понадобится нам для обработки результатов,\n",
    "# которая будет описана позже\n",
    "from scipy.signal import savgol_filter"
   ]
  },
  {
   "cell_type": "code",
   "execution_count": 2,
   "metadata": {},
   "outputs": [],
   "source": [
    "def clean_text(text: str) -> str:\n",
    "\n",
    "    # Заменяем переносы строк на пробелы\n",
    "    text = text.replace('\\n', ' ')\n",
    "    # Убираем лишние пробелы\n",
    "    cleaned_text = re.sub(r'\\s+', ' ', text).strip()\n",
    "\n",
    "    return cleaned_text"
   ]
  },
  {
   "cell_type": "code",
   "execution_count": 3,
   "metadata": {},
   "outputs": [],
   "source": [
    "cleaned_text = clean_text(\"Дорогой дневник! У меня появилась сумка, которая учит меня шить :) Сегодня у нее отвалилось крепление для крепления.\")\n",
    "\n",
    "# Разбиваем текст на предложения и загружаем их в список\n",
    "sentences = []\n",
    "#for substring in list(sentenize(cleaned_text)):\n",
    "#    sentences.append(substring.text)\n",
    "sentences.append(cleaned_text)"
   ]
  },
  {
   "cell_type": "code",
   "execution_count": 4,
   "metadata": {},
   "outputs": [],
   "source": [
    "# Загрузим модель с сайта HuggingFace и создадим ее экземпляр\n",
    "model_checkpoint = 'cointegrated/rubert-tiny-sentiment-balanced'\n",
    "tokenizer = AutoTokenizer.from_pretrained(model_checkpoint)\n",
    "model = AutoModelForSequenceClassification.from_pretrained(model_checkpoint)\n",
    "if torch.cuda.is_available():\n",
    "    model.cuda()\n",
    "   \n",
    "# Сложная функция, которая заставит модель работать\n",
    "def estimate_sentiment(messages: list) -> list:\n",
    "    sentiment_out = []\n",
    "    for text in messages:\n",
    "        with torch.no_grad():\n",
    "            inputs = tokenizer(text, return_tensors='pt', truncation=True, padding=True).to(model.device)\n",
    "            proba = torch.sigmoid(model(**inputs).logits).cpu().numpy()[0]\n",
    "            sentiment_out.append(proba.dot([-1, 0, 1]))\n",
    "    return sentiment_out"
   ]
  },
  {
   "cell_type": "code",
   "execution_count": 5,
   "metadata": {},
   "outputs": [
    {
     "name": "stdout",
     "output_type": "stream",
     "text": [
      "CPU times: total: 93.8 ms\n",
      "Wall time: 16.5 ms\n"
     ]
    }
   ],
   "source": [
    "%%time\n",
    "sentiments = estimate_sentiment(sentences)"
   ]
  },
  {
   "cell_type": "code",
   "execution_count": 9,
   "metadata": {},
   "outputs": [
    {
     "name": "stdout",
     "output_type": "stream",
     "text": [
      "0.3986\n"
     ]
    }
   ],
   "source": [
    "print(round(sentiments[0], 4))"
   ]
  }
 ],
 "metadata": {
  "kernelspec": {
   "display_name": "Python 3",
   "language": "python",
   "name": "python3"
  },
  "language_info": {
   "codemirror_mode": {
    "name": "ipython",
    "version": 3
   },
   "file_extension": ".py",
   "mimetype": "text/x-python",
   "name": "python",
   "nbconvert_exporter": "python",
   "pygments_lexer": "ipython3",
   "version": "3.13.2"
  }
 },
 "nbformat": 4,
 "nbformat_minor": 2
}
